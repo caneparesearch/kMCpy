{
 "cells": [
  {
   "cell_type": "markdown",
   "metadata": {},
   "source": [
    "following block is for generating the local cluster expansion model. See the Table S3 in support information of nasicon kmc as reference\n",
    "\n",
    "The localclusterexpansion.initialization is for generating the **lce.json and lcesite.json**"
   ]
  },
  {
   "cell_type": "markdown",
   "metadata": {},
   "source": [
    "the kmc.event_generator is for generating the **event_kernal.csv and events.json**\n",
    "\n",
    "read the primitive cell from prim.json, and write events.json as output"
   ]
  },
  {
   "cell_type": "code",
   "execution_count": null,
   "metadata": {},
   "outputs": [],
   "source": [
    "from kmcpy.event_generator import generate_events\n",
    "\n",
    "generate_events(prim_fname=r\"../examples/inputs/prim.json\",supercell_shape=[2,1,1],event_fname=\"./events.json\",event_kernal_fname='./event_kernal.csv')"
   ]
  },
  {
   "cell_type": "markdown",
   "metadata": {},
   "source": [
    "Api version 2 initiated\n",
    "aiming for more flexible inputs.\n",
    "Following block is the main KMC function\n",
    "DO make sure that they provide similar result as in API=1\n",
    "KMC result is not necessarily the same, since it is randomized"
   ]
  },
  {
   "cell_type": "code",
   "execution_count": null,
   "metadata": {},
   "outputs": [],
   "source": [
    "#!/usr/bin/env python\n",
    "\n",
    "from kmcpy.io import InputSet,load_occ\n",
    "from kmcpy.kmc import KMC\n",
    "import os\n",
    "import sys\n",
    "\n",
    "def main(api=2,**kwargs):\n",
    "    inputset=InputSet.from_json(\"test_input_v2.json\",api=2)\n",
    "\n",
    "    print(inputset._parameters.keys())\n",
    "    inputset.parameter_checker()\n",
    "\n",
    "    inputset.set_parameter(\"occ\",load_occ(fname=inputset._parameters[\"mc_results\"],shape=inputset._parameters[\"supercell_shape\"],select_sites=inputset._parameters[\"select_sites\"],api=inputset.api,verbose=True))\n",
    "    \n",
    "    \n",
    "    \n",
    "\n",
    "    # step 1 initialize global occupation and conditions\n",
    "    \n",
    "    \n",
    "    \n",
    "    kmc = KMC(api=api)\n",
    "    events_initialized = kmc.initialization(**inputset._parameters) # v in 10^13 hz\n",
    "\n",
    "    # # step 2 compute the site kernal (used for kmc run)\n",
    "    kmc.load_site_event_list(inputset._parameters[\"event_kernel\"])\n",
    "\n",
    "    # # step 3 run kmc\n",
    "    kmc.run_from_database(events=events_initialized,**inputset._parameters)\n",
    "\n",
    "\n",
    "if __name__ == \"__main__\":\n",
    "\n",
    "    main()"
   ]
  },
  {
   "cell_type": "markdown",
   "metadata": {},
   "source": [
    "testing the sites_and_lattices.py"
   ]
  },
  {
   "cell_type": "markdown",
   "metadata": {},
   "source": [
    "我写的site lattice看不懂.\n",
    "\n",
    "\n",
    "根据piero建议,还是用structure写吧....."
   ]
  },
  {
   "cell_type": "code",
   "execution_count": null,
   "metadata": {},
   "outputs": [],
   "source": [
    "from kmcpy.external.pymatgen_structure import Structure\n",
    "from pymatgen.symmetry.analyzer  import SpacegroupAnalyzer\n",
    "from kmcpy.external.pymatgen_local_env import CutOffDictNN\n",
    "structure=Structure.from_cif(\"/Users/weihangxie/Documents/GitHub/kmcPy/dev_test/EntryWithCollCode15546_Na4Zr2Si3O12_573K.cif\")\n",
    "\n",
    "\n",
    "\n",
    "#print(structure.site_properties)\n",
    "print(structure)\n",
    "\n",
    "#print(structure[5].properties)\n",
    "\n",
    "structure.make_supercell(scaling_matrix=[1,1,2])\n",
    "#print(structure.site_properties)\n",
    "local_env_cutoff_dict = {('Na+','Na+'):4,('Na+','Si4+'):4}\n",
    "local_env_finder = CutOffDictNN(local_env_cutoff_dict)\n",
    "local_env_finder.get_nn_info(structure,0)   \n",
    "from kmcpy.model import LocalClusterExpansion\n",
    "\n",
    "\n",
    "\n",
    "a=LocalClusterExpansion(api=1)\n",
    "a.initialization(center_mobile_ion_specie_1_index=0,cutoff_cluster=[6,6,6],cutoff_region=4,template_cif_fname='./EntryWithCollCode15546_Na4Zr2Si3O12_573K.cif')\n",
    "a=LocalClusterExpansion(api=2)\n",
    "a.initialization(mobile_ion_specie_1_index_index=0,cutoff_cluster=[6,6,6],cutoff_region=4,template_cif_fname='./EntryWithCollCode15546_Na4Zr2Si3O12_573K.cif')\n",
    "a.to_json(\"test_LCEv2.json\")\n"
   ]
  },
  {
   "cell_type": "markdown",
   "metadata": {},
   "source": [
    "test on find_site_by_wyckoff_sequence_and_label"
   ]
  },
  {
   "cell_type": "markdown",
   "metadata": {},
   "source": [
    "test on nd supercell"
   ]
  },
  {
   "cell_type": "markdown",
   "metadata": {},
   "source": [
    "test the new event generator\n",
    "\n",
    "Problem!!!!! LOok the distance matrix, they are not all the same\n",
    "\n",
    "Fixed now"
   ]
  },
  {
   "cell_type": "markdown",
   "metadata": {},
   "source": []
  },
  {
   "cell_type": "code",
   "execution_count": 2,
   "metadata": {},
   "outputs": [
    {
     "ename": "FileNotFoundError",
     "evalue": "[Errno 2] No such file or directory: 'EntryWithCollCode15546_Na4Zr2Si3O12_573K.cif'",
     "output_type": "error",
     "traceback": [
      "\u001b[1;31m---------------------------------------------------------------------------\u001b[0m",
      "\u001b[1;31mFileNotFoundError\u001b[0m                         Traceback (most recent call last)",
      "\u001b[1;32mc:\\Users\\dx\\Documents\\GitHub\\kmcPy\\dev_test\\dev_test.ipynb Cell 17'\u001b[0m in \u001b[0;36m<cell line: 4>\u001b[1;34m()\u001b[0m\n\u001b[0;32m      <a href='vscode-notebook-cell:/c%3A/Users/dx/Documents/GitHub/kmcPy/dev_test/dev_test.ipynb#ch0000016?line=0'>1</a>\u001b[0m \u001b[39mfrom\u001b[39;00m \u001b[39mkmcpy\u001b[39;00m\u001b[39m.\u001b[39;00m\u001b[39mevent_generator\u001b[39;00m \u001b[39mimport\u001b[39;00m generate_events2\n\u001b[0;32m      <a href='vscode-notebook-cell:/c%3A/Users/dx/Documents/GitHub/kmcPy/dev_test/dev_test.ipynb#ch0000016?line=1'>2</a>\u001b[0m \u001b[39mfrom\u001b[39;00m \u001b[39mkmcpy\u001b[39;00m\u001b[39m.\u001b[39;00m\u001b[39mexternal\u001b[39;00m\u001b[39m.\u001b[39;00m\u001b[39mpymatgen_structure\u001b[39;00m \u001b[39mimport\u001b[39;00m Structure\n\u001b[1;32m----> <a href='vscode-notebook-cell:/c%3A/Users/dx/Documents/GitHub/kmcPy/dev_test/dev_test.ipynb#ch0000016?line=3'>4</a>\u001b[0m primitive_structure\u001b[39m=\u001b[39mStructure\u001b[39m.\u001b[39;49mfrom_file(\u001b[39m\"\u001b[39;49m\u001b[39mEntryWithCollCode15546_Na4Zr2Si3O12_573K.cif\u001b[39;49m\u001b[39m\"\u001b[39;49m,primitive\u001b[39m=\u001b[39;49m\u001b[39mTrue\u001b[39;49;00m)\n\u001b[0;32m      <a href='vscode-notebook-cell:/c%3A/Users/dx/Documents/GitHub/kmcPy/dev_test/dev_test.ipynb#ch0000016?line=4'>5</a>\u001b[0m primitive_structure\u001b[39m.\u001b[39mto(\u001b[39m\"\u001b[39m\u001b[39mcif\u001b[39m\u001b[39m\"\u001b[39m,\u001b[39m\"\u001b[39m\u001b[39mprimitive_EntryWithCollCode15546_Na4Zr2Si3O12_573K.cif\u001b[39m\u001b[39m\"\u001b[39m)\n\u001b[0;32m      <a href='vscode-notebook-cell:/c%3A/Users/dx/Documents/GitHub/kmcPy/dev_test/dev_test.ipynb#ch0000016?line=7'>8</a>\u001b[0m \u001b[39m#generate_events2(prim_cif_name=\"primitive_EntryWithCollCode15546_Na4Zr2Si3O12_573K.cif\",supercell_shape=[2,3,4],local_env_cutoff_dict = {('Na+','Na+'):4,('Na+','Si4+'):4},event_fname=\"events.json\",event_kernal_fname='event_kernal.csv',mobile_ion_specie_1_index_label_or_indices=\"Na1\",species_to_be_removed=['Zr4+','O2-','O','Zr'],verbose=True)\u001b[39;00m\n\u001b[0;32m      <a href='vscode-notebook-cell:/c%3A/Users/dx/Documents/GitHub/kmcPy/dev_test/dev_test.ipynb#ch0000016?line=8'>9</a>\u001b[0m \n\u001b[0;32m     <a href='vscode-notebook-cell:/c%3A/Users/dx/Documents/GitHub/kmcPy/dev_test/dev_test.ipynb#ch0000016?line=9'>10</a>\u001b[0m \n\u001b[0;32m     <a href='vscode-notebook-cell:/c%3A/Users/dx/Documents/GitHub/kmcPy/dev_test/dev_test.ipynb#ch0000016?line=10'>11</a>\u001b[0m \u001b[39m#generate_events2(prim_cif_name=\"EntryWithCollCode15546_Na4Zr2Si3O12_573K.cif\",supercell_shape=[2,3,4],local_env_cutoff_dict = {('Na+','Na+'):4,('Na+','Si4+'):4},event_fname=\"events.json\",event_kernal_fname='event_kernal.csv',mobile_ion_specie_1_index_label_or_indices=\"Na1\",species_to_be_removed=['Zr4+','O2-','O','Zr'],verbose=True,hacking_arg={1: [27, 29, 28, 30, 32, 31, 117, 119, 118, 120, 122, 121],2:[21,22,23,32,30,31,111,112,113,122,120,121],3:[18,20,19,34,33,35,108,110,109,124,123,125],5:[21,23,22,24,26,25,111,113,112,114,116,115]})\u001b[39;00m\n\u001b[0;32m     <a href='vscode-notebook-cell:/c%3A/Users/dx/Documents/GitHub/kmcPy/dev_test/dev_test.ipynb#ch0000016?line=11'>12</a>\u001b[0m \u001b[39m#generate_events2(prim_cif_name=\"EntryWithCollCode15546_Na4Zr2Si3O12_573K.cif\",supercell_shape=[2,1,1],local_env_cutoff_dict = {('Na+','Na+'):4,('Na+','Si4+'):4},event_fname=\"events.json\",event_kernal_fname='event_kernal.csv',mobile_ion_specie_1_index_label_or_indices=\"Na1\",species_to_be_removed=['Zr4+','O2-','O','Zr'],verbose=True,hacking_arg={2:[21,22,23,32,30,31,111,112,113,122,120,121],3:[18,20,19,34,33,35,108,110,109,124,123,125],5:[21,23,22,24,26,25,111,113,112,114,116,115]})\u001b[39;00m\n",
      "File \u001b[1;32mc:\\users\\dx\\documents\\github\\kmcpy\\kmcpy\\external\\pymatgen_structure.py:2544\u001b[0m, in \u001b[0;36mIStructure.from_file\u001b[1;34m(cls, filename, primitive, sort, merge_tol)\u001b[0m\n\u001b[0;32m   <a href='file:///c%3A/users/dx/documents/github/kmcpy/kmcpy/external/pymatgen_structure.py?line=2540'>2541</a>\u001b[0m \u001b[39mfrom\u001b[39;00m \u001b[39mpymatgen\u001b[39;00m\u001b[39m.\u001b[39;00m\u001b[39mio\u001b[39;00m\u001b[39m.\u001b[39;00m\u001b[39mvasp\u001b[39;00m \u001b[39mimport\u001b[39;00m Chgcar, Vasprun\n\u001b[0;32m   <a href='file:///c%3A/users/dx/documents/github/kmcpy/kmcpy/external/pymatgen_structure.py?line=2542'>2543</a>\u001b[0m fname \u001b[39m=\u001b[39m os\u001b[39m.\u001b[39mpath\u001b[39m.\u001b[39mbasename(filename)\n\u001b[1;32m-> <a href='file:///c%3A/users/dx/documents/github/kmcpy/kmcpy/external/pymatgen_structure.py?line=2543'>2544</a>\u001b[0m \u001b[39mwith\u001b[39;00m zopen(filename, \u001b[39m\"\u001b[39;49m\u001b[39mrt\u001b[39;49m\u001b[39m\"\u001b[39;49m) \u001b[39mas\u001b[39;00m f:\n\u001b[0;32m   <a href='file:///c%3A/users/dx/documents/github/kmcpy/kmcpy/external/pymatgen_structure.py?line=2544'>2545</a>\u001b[0m     contents \u001b[39m=\u001b[39m f\u001b[39m.\u001b[39mread()\n\u001b[0;32m   <a href='file:///c%3A/users/dx/documents/github/kmcpy/kmcpy/external/pymatgen_structure.py?line=2545'>2546</a>\u001b[0m \u001b[39mif\u001b[39;00m fnmatch(fname\u001b[39m.\u001b[39mlower(), \u001b[39m\"\u001b[39m\u001b[39m*.cif*\u001b[39m\u001b[39m\"\u001b[39m) \u001b[39mor\u001b[39;00m fnmatch(fname\u001b[39m.\u001b[39mlower(), \u001b[39m\"\u001b[39m\u001b[39m*.mcif*\u001b[39m\u001b[39m\"\u001b[39m):\n",
      "File \u001b[1;32m~\\anaconda3\\envs\\kmcpy\\lib\\site-packages\\monty\\io.py:45\u001b[0m, in \u001b[0;36mzopen\u001b[1;34m(filename, *args, **kwargs)\u001b[0m\n\u001b[0;32m     <a href='file:///c%3A/Users/dx/anaconda3/envs/kmcpy/lib/site-packages/monty/io.py?line=42'>43</a>\u001b[0m \u001b[39mif\u001b[39;00m ext \u001b[39min\u001b[39;00m (\u001b[39m\"\u001b[39m\u001b[39m.XZ\u001b[39m\u001b[39m\"\u001b[39m, \u001b[39m\"\u001b[39m\u001b[39m.LZMA\u001b[39m\u001b[39m\"\u001b[39m):\n\u001b[0;32m     <a href='file:///c%3A/Users/dx/anaconda3/envs/kmcpy/lib/site-packages/monty/io.py?line=43'>44</a>\u001b[0m     \u001b[39mreturn\u001b[39;00m lzma\u001b[39m.\u001b[39mopen(filename, \u001b[39m*\u001b[39margs, \u001b[39m*\u001b[39m\u001b[39m*\u001b[39mkwargs)\n\u001b[1;32m---> <a href='file:///c%3A/Users/dx/anaconda3/envs/kmcpy/lib/site-packages/monty/io.py?line=44'>45</a>\u001b[0m \u001b[39mreturn\u001b[39;00m \u001b[39mopen\u001b[39;49m(filename, \u001b[39m*\u001b[39;49margs, \u001b[39m*\u001b[39;49m\u001b[39m*\u001b[39;49mkwargs)\n",
      "\u001b[1;31mFileNotFoundError\u001b[0m: [Errno 2] No such file or directory: 'EntryWithCollCode15546_Na4Zr2Si3O12_573K.cif'"
     ]
    }
   ],
   "source": [
    "from kmcpy.event_generator import generate_events2\n",
    "from kmcpy.external.pymatgen_structure import Structure\n",
    "\n",
    "primitive_structure=Structure.from_file(\"EntryWithCollCode15546_Na4Zr2Si3O12_573K.cif\",primitive=True)\n",
    "primitive_structure.to(\"cif\",\"primitive_EntryWithCollCode15546_Na4Zr2Si3O12_573K.cif\")\n",
    "\n",
    "\n",
    "#generate_events2(prim_cif_name=\"primitive_EntryWithCollCode15546_Na4Zr2Si3O12_573K.cif\",supercell_shape=[2,3,4],local_env_cutoff_dict = {('Na+','Na+'):4,('Na+','Si4+'):4},event_fname=\"events.json\",event_kernal_fname='event_kernal.csv',mobile_ion_specie_1_index_label_or_indices=\"Na1\",species_to_be_removed=['Zr4+','O2-','O','Zr'],verbose=True)\n",
    "\n",
    "\n",
    "#generate_events2(prim_cif_name=\"EntryWithCollCode15546_Na4Zr2Si3O12_573K.cif\",supercell_shape=[2,3,4],local_env_cutoff_dict = {('Na+','Na+'):4,('Na+','Si4+'):4},event_fname=\"events.json\",event_kernal_fname='event_kernal.csv',mobile_ion_specie_1_index_label_or_indices=\"Na1\",species_to_be_removed=['Zr4+','O2-','O','Zr'],verbose=True,hacking_arg={1: [27, 29, 28, 30, 32, 31, 117, 119, 118, 120, 122, 121],2:[21,22,23,32,30,31,111,112,113,122,120,121],3:[18,20,19,34,33,35,108,110,109,124,123,125],5:[21,23,22,24,26,25,111,113,112,114,116,115]})\n",
    "#generate_events2(prim_cif_name=\"EntryWithCollCode15546_Na4Zr2Si3O12_573K.cif\",supercell_shape=[2,1,1],local_env_cutoff_dict = {('Na+','Na+'):4,('Na+','Si4+'):4},event_fname=\"events.json\",event_kernal_fname='event_kernal.csv',mobile_ion_specie_1_index_label_or_indices=\"Na1\",species_to_be_removed=['Zr4+','O2-','O','Zr'],verbose=True,hacking_arg={2:[21,22,23,32,30,31,111,112,113,122,120,121],3:[18,20,19,34,33,35,108,110,109,124,123,125],5:[21,23,22,24,26,25,111,113,112,114,116,115]})\n",
    "\n",
    "generate_events2(prim_cif_name=\"EntryWithCollCode15546_Na4Zr2Si3O12_573K.cif\",supercell_shape=[2,1,1],local_env_cutoff_dict = {('Na+','Na+'):4,('Na+','Si4+'):4},event_fname=\"events.json\",event_kernal_fname='event_kernal.csv',mobile_ion_specie_1_index_label_or_indices=\"Na1\",species_to_be_removed=['Zr4+','O2-','O','Zr'],verbose=True,hacking_arg=None,convert_to_primitive_cell=False,export_reference_cluster=\"reference_cluster.cif\")\n",
    "\n",
    "\n"
   ]
  },
  {
   "cell_type": "markdown",
   "metadata": {},
   "source": [
    "完整的第二版测试?\n",
    "\n",
    "注意,prim.json读进structure之后,再输出成cif,注意输出cif时候要给过去一个symprec变量.这样生成出来的cif是有对称性的.然后要参照cif里面的Label更改center atom 和 diffuse to atom. 这里面分别是Na1 和Na0\n",
    "\n",
    "20220518 已经移动到unitttest\n"
   ]
  },
  {
   "cell_type": "markdown",
   "metadata": {},
   "source": [
    "20220519 start 3rd version on grain boundary model"
   ]
  },
  {
   "cell_type": "markdown",
   "metadata": {},
   "source": [
    "\n",
    "\n"
   ]
  }
 ],
 "metadata": {
  "interpreter": {
   "hash": "aa22ce60809d74f9d108d0bb5f5061efdbc6ac21e16e592e8ddb4cfeb91c0cd8"
  },
  "kernelspec": {
   "display_name": "Python 3.8.13 ('kmcpy')",
   "language": "python",
   "name": "python3"
  },
  "language_info": {
   "codemirror_mode": {
    "name": "ipython",
    "version": 3
   },
   "file_extension": ".py",
   "mimetype": "text/x-python",
   "name": "python",
   "nbconvert_exporter": "python",
   "pygments_lexer": "ipython3",
   "version": "3.8.13"
  },
  "orig_nbformat": 4
 },
 "nbformat": 4,
 "nbformat_minor": 2
}
