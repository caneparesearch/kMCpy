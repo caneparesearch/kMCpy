{
 "cells": [
  {
   "cell_type": "markdown",
   "metadata": {},
   "source": [
    "# This is the example of KMC run for nasicon\n",
    "By running the respective code block, the json file for kmc input should be generated. KMC will take the json as input paramter to execute the simulation\n",
    "\n",
    "# 1. Local Cluster Expansion\n",
    "\n",
    "## Required input \n",
    "- cif file of crystal structure: template_cif_fname\n",
    "## Output\n",
    "- lce.json\n",
    "- lce_site.json"
   ]
  },
  {
   "cell_type": "markdown",
   "metadata": {},
   "source": [
    "You should configure a logger before running the code."
   ]
  },
  {
   "cell_type": "code",
   "execution_count": 1,
   "metadata": {},
   "outputs": [],
   "source": [
    "import logging\n",
    "\n",
    "## for debugging purposes, we set the logging level to DEBUG\n",
    "logging.basicConfig(\n",
    "    level=logging.DEBUG, # Set to DEBUG to see everything\n",
    "    format='%(asctime)s - %(name)-28s - %(levelname)-8s - %(message)s',\n",
    "    datefmt='%Y-%m-%d %H:%M',\n",
    "    filename='debug.log',  # Log to a file named debug.log\n",
    "    filemode='w',  # Overwrite the log file each time\n",
    ")\n",
    "\n",
    "## For production, you would just change one line:\n",
    "# logging.basicConfig(\n",
    "#     level=logging.INFO, # Set to INFO for production\n",
    "#     format='%(asctime)s: %(message)s',\n",
    "#     datefmt='%Y-%m-%d %H:%M',\n",
    "# )"
   ]
  },
  {
   "cell_type": "code",
   "execution_count": null,
   "metadata": {},
   "outputs": [],
   "source": [
    "from kmcpy.model.local_cluster_expansion import LocalClusterExpansion\n",
    "\n",
    "mobile_ion_identifier_type = \"label\"\n",
    "mobile_ion_specie_identifier = \"Na1\"\n",
    "lce = LocalClusterExpansion()\n",
    "lce.initialization(\n",
    "    mobile_ion_identifier_type=mobile_ion_identifier_type,\n",
    "    mobile_ion_specie_identifier=mobile_ion_specie_identifier,\n",
    "    cutoff_cluster=[8, 6, 0],\n",
    "    cutoff_region=4,\n",
    "    template_fname=\"./file_before_kmc/EntryWithCollCode15546_Na4Zr2Si3O12_573K.cif\",\n",
    "    convert_to_primitive_cell=True,\n",
    ")\n",
    "lce.to_json(\"lce.json\")\n",
    "lce.to_json(\"lce_site.json\")"
   ]
  },
  {
   "cell_type": "markdown",
   "metadata": {},
   "source": [
    "# 2. Fitting\n",
    "Fit the Local Cluster Expansion model, data is from out KMC paper https://www.nature.com/articles/s41467-022-32190-7\n",
    "## Required input \n",
    "- local cluster expansion correlation matrix, ekra, weight\n",
    "\n",
    "    in the file\\_before\\_kmc/local\\_cluster\\_expansion\n",
    "## Output\n",
    "- fitting\\_results.json\n",
    "\n",
    "    fitting result of $E_{KRA}$ and $E_{site}$\n",
    "- (keci.txt)\n",
    "\n",
    "    not input file for KMC, just for checking the parameters\n"
   ]
  },
  {
   "cell_type": "code",
   "execution_count": 3,
   "metadata": {},
   "outputs": [],
   "source": [
    "from kmcpy.fitting import Fitting\n",
    "\n",
    "local_cluster_expansion_fit = Fitting()\n",
    "\n",
    "y_pred, y_true = local_cluster_expansion_fit.fit(\n",
    "    alpha=1.5,\n",
    "    max_iter=1000000,\n",
    "    ekra_fname=\"file_before_kmc/local_cluster_expansion/e_kra.txt\",\n",
    "    keci_fname=\"keci.txt\",\n",
    "    weight_fname=\"file_before_kmc/local_cluster_expansion/weight.txt\",\n",
    "    corr_fname=\"file_before_kmc/local_cluster_expansion/correlation_matrix.txt\",\n",
    "    fit_results_fname=\"fitting_results.json\",\n",
    ")\n",
    "local_cluster_expansion_fit = Fitting()\n",
    "\n",
    "y_pred, y_true = local_cluster_expansion_fit.fit(\n",
    "    alpha=1.5,\n",
    "    max_iter=1000000,\n",
    "    ekra_fname=\"file_before_kmc/local_cluster_expansion_site/e_site.txt\",\n",
    "    keci_fname=\"keci.txt\",\n",
    "    weight_fname=\"file_before_kmc/local_cluster_expansion_site/weight.txt\",\n",
    "    corr_fname=\"file_before_kmc/local_cluster_expansion_site/correlation_matrix.txt\",\n",
    "    fit_results_fname=\"fitting_results_site.json\",\n",
    ")\n"
   ]
  },
  {
   "cell_type": "markdown",
   "metadata": {},
   "source": [
    "# 3.Generate Events\n",
    "\n",
    "## Required input \n",
    "- Cif file, the same as local cluster expansion\n",
    "\n",
    "    path is defined in the prim_cif_name\n",
    "\n",
    "## Output\n",
    "- events.json\n",
    "\n",
    "    store all events in the supercell \n",
    "\n",
    "- event\\_kernel.csv\n",
    "\n",
    "    event kernel for coupling between events\n",
    "\n",
    "- (0th\\_reference\\_local\\_env.cif)\n",
    "\n",
    "    this is not the input for KMC. This is for checking. Should be the same as the local cluster expansion model.\n",
    "\n",
    "- (debug.log)\n",
    "\n",
    "    log file containing debug information. It is recommended to check the distance matrix"
   ]
  },
  {
   "cell_type": "code",
   "execution_count": null,
   "metadata": {},
   "outputs": [
    {
     "data": {
      "text/plain": [
       "{(('Na+', 6),\n",
       "  ('Si4+',\n",
       "   6)): <kmcpy.event_generator.NeighborInfoMatcher at 0x7f8825da41a0>}"
      ]
     },
     "execution_count": 4,
     "metadata": {},
     "output_type": "execute_result"
    }
   ],
   "source": [
    "mobile_ion_identifier_type = \"label\"\n",
    "mobile_ion_specie_identifier = \"Na1\"\n",
    "mobile_ion_specie_2_identifier = \"Na2\"\n",
    "template_structure_fname = \"file_before_kmc/EntryWithCollCode15546_Na4Zr2Si3O12_573K.cif\"\n",
    "local_env_cutoff_dict = {(\"Na+\", \"Na+\"): 4, (\"Na+\", \"Si4+\"): 4}\n",
    "from kmcpy.event_generator import EventGenerator\n",
    "\n",
    "generator = EventGenerator()\n",
    "generator.generate_events(\n",
    "    template_structure_fname=template_structure_fname,\n",
    "    local_env_cutoff_dict=local_env_cutoff_dict,\n",
    "    mobile_ion_identifier_type=mobile_ion_identifier_type,\n",
    "    mobile_ion_specie_identifier=mobile_ion_specie_identifier,\n",
    "    mobile_ion_specie_2_identifier=mobile_ion_specie_2_identifier,\n",
    "    species_to_be_removed=[\"O2-\", \"O\", \"Zr4+\", \"Zr\"],\n",
    "    distance_matrix_rtol=0.01,\n",
    "    distance_matrix_atol=0.01,\n",
    "    find_nearest_if_fail=False,\n",
    "    convert_to_primitive_cell=True,\n",
    "    export_local_env_structure=True,\n",
    "    supercell_shape=[2, 1, 1],\n",
    "    event_fname=\"events.json\",\n",
    "    event_dependencies_fname=\"event_dependencies.csv\",\n",
    ")"
   ]
  },
  {
   "cell_type": "markdown",
   "metadata": {},
   "source": [
    "# 4.Run KMC simulation\n",
    "## Required input \n",
    "- input.json\n",
    "\n",
    "    specify the parameter of kmc simulation\n",
    "- initial_state.json\n",
    "\n",
    "    initial occupation, typically obtained from a cluster expansion result\n",
    "## Output\n",
    "\n",
    "- standard output:\n",
    "    \n",
    "    contains information in each step\n",
    "\n",
    "- \\*.csv.gz file:\n",
    "\n",
    "    contains the information of occupation, displacement, hopping counter, and results, respectively"
   ]
  },
  {
   "cell_type": "code",
   "execution_count": null,
   "metadata": {},
   "outputs": [
    {
     "name": "stderr",
     "output_type": "stream",
     "text": [
      "/home/jerry/work/kMCpy/kmcpy/tracker.py:171: RuntimeWarning: invalid value encountered in divide\n",
      "  corr_factor = np.linalg.norm(self.displacement, axis=1) ** 2 / (\n",
      "/home/jerry/work/kMCpy/kmcpy/tracker.py:171: RuntimeWarning: invalid value encountered in divide\n",
      "  corr_factor = np.linalg.norm(self.displacement, axis=1) ** 2 / (\n",
      "/home/jerry/work/kMCpy/kmcpy/tracker.py:171: RuntimeWarning: invalid value encountered in divide\n",
      "  corr_factor = np.linalg.norm(self.displacement, axis=1) ** 2 / (\n",
      "/home/jerry/work/kMCpy/kmcpy/tracker.py:171: RuntimeWarning: invalid value encountered in divide\n",
      "  corr_factor = np.linalg.norm(self.displacement, axis=1) ** 2 / (\n"
     ]
    }
   ],
   "source": [
    "from kmcpy.io import InputSet\n",
    "from kmcpy.simulation.kmc import KMC\n",
    "\n",
    "inputset = InputSet.from_json(\"file_before_kmc/test_input_v3.json\")\n",
    "\n",
    "kmc = KMC.from_inputset(inputset)  # v in 10^13 hz\n",
    "\n",
    "# run kmc\n",
    "kmc_tracker = kmc.run(inputset)\n"
   ]
  }
 ],
 "metadata": {
  "kernelspec": {
   "display_name": "kMCpy (3.13.3)",
   "language": "python",
   "name": "python3"
  },
  "language_info": {
   "codemirror_mode": {
    "name": "ipython",
    "version": 3
   },
   "file_extension": ".py",
   "mimetype": "text/x-python",
   "name": "python",
   "nbconvert_exporter": "python",
   "pygments_lexer": "ipython3",
   "version": "3.13.3"
  },
  "orig_nbformat": 4
 },
 "nbformat": 4,
 "nbformat_minor": 2
}
