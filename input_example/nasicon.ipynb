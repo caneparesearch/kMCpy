{
 "cells": [
  {
   "cell_type": "markdown",
   "metadata": {},
   "source": [
    "# This is the example of KMC run for nasicon\n",
    "By running the respective code block, the json file for kmc input should be generated. KMC will take the json as input paramter to execute the simulation\n",
    "\n",
    "# 1. Local Cluster Expansion\n",
    "\n",
    "## Required input \n",
    "- cif file of crystal structure: template_cif_fname\n",
    "## Output\n",
    "- lce.json\n",
    "- lce_site.json"
   ]
  },
  {
   "cell_type": "code",
   "execution_count": null,
   "metadata": {},
   "outputs": [],
   "source": [
    "from kmcpy.model import LocalClusterExpansion\n",
    "mobile_ion_identifier_type=\"label\"\n",
    "mobile_ion_specie_1_identifier=\"Na1\"\n",
    "lce=LocalClusterExpansion(api=3)\n",
    "lce.initialization3(mobile_ion_identifier_type=mobile_ion_identifier_type,mobile_ion_specie_1_identifier=mobile_ion_specie_1_identifier,cutoff_cluster=[8,6,0],cutoff_region=4,template_cif_fname='./file_before_kmc/EntryWithCollCode15546_Na4Zr2Si3O12_573K.cif',convert_to_primitive_cell=True)\n",
    "lce.to_json(\"lce.json\")\n",
    "lce.to_json(\"lce_site.json\")"
   ]
  },
  {
   "cell_type": "markdown",
   "metadata": {},
   "source": [
    "# 2. Fitting\n",
    "Fit the Local Cluster Expansion model, data is from out KMC paper https://www.nature.com/articles/s41467-022-32190-7\n",
    "## Required input \n",
    "- local cluster expansion correlation matrix, ekra, weight\n",
    "\n",
    "    in the file\\_before\\_kmc/local\\_cluster\\_expansion\n",
    "## Output\n",
    "- fitting\\_results.json\n",
    "\n",
    "    fitting result of E_{KRA} and E_{site}\n",
    "- (keci.txt)\n",
    "\n",
    "    not input file for KMC, just for checking the parameters\n"
   ]
  },
  {
   "cell_type": "code",
   "execution_count": null,
   "metadata": {},
   "outputs": [],
   "source": [
    "from kmcpy.fitting import Fitting\n",
    "import numpy as np\n",
    "\n",
    "local_cluster_expansion_fit = Fitting()\n",
    "\n",
    "y_pred, y_true = local_cluster_expansion_fit.fit(alpha=1.5,max_iter=1000000,ekra_fname='file_before_kmc/local_cluster_expansion/e_kra.txt',keci_fname='keci.txt',\n",
    "    weight_fname='file_before_kmc/local_cluster_expansion/weight.txt',corr_fname='file_before_kmc/local_cluster_expansion/correlation_matrix.txt',\n",
    "    fit_results_fname='fitting_results.json')\n",
    "print(\"fitting\",y_pred, y_true )\n",
    "local_cluster_expansion_fit = Fitting()\n",
    "\n",
    "y_pred, y_true = local_cluster_expansion_fit.fit(alpha=1.5,max_iter=1000000,ekra_fname='file_before_kmc/local_cluster_expansion_site/e_kra.txt',keci_fname='keci.txt',\n",
    "    weight_fname='file_before_kmc/local_cluster_expansion_site/weight.txt',corr_fname='file_before_kmc/local_cluster_expansion_site/correlation_matrix.txt',\n",
    "    fit_results_fname='fitting_results_site.json')\n",
    "print(\"fitting\",y_pred, y_true )"
   ]
  },
  {
   "cell_type": "markdown",
   "metadata": {},
   "source": [
    "# 3.Generate Events\n",
    "\n",
    "## Required input \n",
    "- Cif file, the same as local cluster expansion\n",
    "\n",
    "    path is defined in the prim_cif_name\n",
    "\n",
    "## Output\n",
    "- events.json\n",
    "\n",
    "    store all events in the supercell \n",
    "\n",
    "- event\\_kernel.csv\n",
    "\n",
    "    event kernel for coupling between events\n",
    "\n",
    "- 0th\\_reference\\_local\\_env\n",
    "\n",
    "    this is not the input for KMC. This is for checking. Should be the same as the local cluster expansion model.\n",
    "\n",
    "- debug.log\n",
    "\n",
    "    log file containing debug information. It is recommended to check the distance matrix"
   ]
  },
  {
   "cell_type": "code",
   "execution_count": null,
   "metadata": {},
   "outputs": [],
   "source": [
    "mobile_ion_identifier_type=\"label\"\n",
    "mobile_ion_specie_1_identifier=\"Na1\"\n",
    "mobile_ion_specie_2_identifier=\"Na2\"\n",
    "prim_cif_name=\"file_before_kmc/EntryWithCollCode15546_Na4Zr2Si3O12_573K.cif\"\n",
    "local_env_cutoff_dict={('Na+','Na+'):4,('Na+','Si4+'):4}\n",
    "from kmcpy.event_generator import generate_events3\n",
    "\n",
    "generate_events3(prim_cif_name=prim_cif_name,local_env_cutoff_dict=local_env_cutoff_dict,mobile_ion_identifier_type=mobile_ion_identifier_type,mobile_ion_specie_1_identifier=mobile_ion_specie_1_identifier,mobile_ion_specie_2_identifier=mobile_ion_specie_2_identifier,species_to_be_removed=[\"O2-\",\"O\",\"Zr4+\",\"Zr\"],distance_matrix_rtol=0.01,distance_matrix_atol=0.01,find_nearest_if_fail=False,convert_to_primitive_cell=True,export_local_env_structure=True,supercell_shape=[2,1,1],event_fname=\"events.json\",event_kernal_fname='event_kernal.csv',verbosity=\"INFO\")"
   ]
  },
  {
   "cell_type": "markdown",
   "metadata": {},
   "source": [
    "# 4.Run KMC simulation\n",
    "## Required input \n",
    "- input.json\n",
    "\n",
    "    specify the parameter of kmc simulation\n",
    "- initial_state.json\n",
    "\n",
    "    initial occupation, typically obtained from a cluster expansion result\n",
    "## Output\n",
    "\n",
    "- standard output:\n",
    "    \n",
    "    contains information in each step\n",
    "\n",
    "- \\*.csv.gz file:\n",
    "\n",
    "    contains the information of occupation, displacement, hopping counter, and results, respectively"
   ]
  },
  {
   "cell_type": "code",
   "execution_count": null,
   "metadata": {},
   "outputs": [],
   "source": [
    "\n",
    "from kmcpy.io import InputSet,load_occ\n",
    "from kmcpy.kmc import KMC\n",
    "import numpy as np\n",
    "api=3\n",
    "inputset=InputSet.from_json(\"file_before_kmc/test_input_v3.json\",api=3)\n",
    "\n",
    "print(inputset._parameters.keys())\n",
    "print(inputset._parameters[\"mc_results\"])\n",
    "inputset.parameter_checker()\n",
    "\n",
    "inputset.set_parameter(\"occ\",load_occ(fname=inputset._parameters[\"mc_results\"],shape=inputset._parameters[\"supercell_shape\"],select_sites=inputset._parameters[\"select_sites\"],api=inputset.api,verbose=True))\n",
    "inputset.set_parameter(\"use_numpy_random_kernel\",False)\n",
    "kmc = KMC(api=api)\n",
    "events_initialized = kmc.initialization(**inputset._parameters) # v in 10^13 hz\n",
    "\n",
    "# # step 2 compute the site kernal (used for kmc run)\n",
    "kmc.load_site_event_list(inputset._parameters[\"event_kernel\"])\n",
    "\n",
    "# # step 3 run kmc\n",
    "kmc_tracker=kmc.run_from_database(events=events_initialized,**inputset._parameters)\n",
    "\n",
    "\n",
    "print(kmc_tracker.return_current_info())"
   ]
  }
 ],
 "metadata": {
  "kernelspec": {
   "display_name": "Python 3.8.13 ('kmcpy')",
   "language": "python",
   "name": "python3"
  },
  "language_info": {
   "codemirror_mode": {
    "name": "ipython",
    "version": 3
   },
   "file_extension": ".py",
   "mimetype": "text/x-python",
   "name": "python",
   "nbconvert_exporter": "python",
   "pygments_lexer": "ipython3",
   "version": "3.8.13"
  },
  "orig_nbformat": 4,
  "vscode": {
   "interpreter": {
    "hash": "11e4398f681c692335ef18e288303502db0e28975de4ac0cfd223c0eb3b427f9"
   }
  }
 },
 "nbformat": 4,
 "nbformat_minor": 2
}
