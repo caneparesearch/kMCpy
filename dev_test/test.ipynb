{
 "cells": [
  {
   "cell_type": "markdown",
   "metadata": {},
   "source": [
    "no sys args version, for debug purpose\n",
    "\n",
    "Following block is a script for running KMC on API=1, Always run it see if it works after make modification on code.\n"
   ]
  },
  {
   "cell_type": "code",
   "execution_count": null,
   "metadata": {},
   "outputs": [],
   "source": [
    "#!/usr/bin/env python\n",
    "\n",
    "from kmcpy.io import InputSet,load_occ\n",
    "from kmcpy.kmc import KMC\n",
    "import os\n",
    "import sys\n",
    "\n",
    "def main(api=1,**kwargs):\n",
    "    os.chdir(\"../examples\")\n",
    "    inputset=InputSet.from_json(\"./test_input.json\")\n",
    "\n",
    "    print(inputset._parameters.keys())\n",
    "    inputset.parameter_checker()\n",
    "\n",
    "    if api==1:\n",
    "\n",
    "\n",
    "        inputset.set_parameter(\"occ\",load_occ(inputset._parameters[\"mc_results\"],inputset._parameters[\"supercell_shape\"],api=inputset.api))\n",
    "        # step 1 initialize global occupation and conditions\n",
    "        kmc = KMC()\n",
    "        events_initialized = kmc.initialization(**inputset._parameters) # v in 10^13 hz\n",
    "\n",
    "        # # step 2 compute the site kernal (used for kmc run)\n",
    "        kmc.load_site_event_list(inputset._parameters[\"event_kernel\"])\n",
    "\n",
    "        # # step 3 run kmc\n",
    "        kmc.run_from_database(events=events_initialized,**inputset._parameters)\n",
    "    if api>1:\n",
    "        raise NotImplementedError\n",
    "    pass\n",
    "\n",
    "\n",
    "if __name__ == \"__main__\":\n",
    "\n",
    "    main()\n"
   ]
  },
  {
   "cell_type": "markdown",
   "metadata": {},
   "source": [
    "following block is for generating the local cluster expansion model. See the Table S3 in support information of nasicon kmc as reference\n",
    "\n",
    "The local cluster expansion is for generating the lce.json"
   ]
  },
  {
   "cell_type": "code",
   "execution_count": null,
   "metadata": {},
   "outputs": [],
   "source": [
    "from kmcpy.model import LocalClusterExpansion\n",
    "\n",
    "a=LocalClusterExpansion()\n",
    "a.initialization()\n",
    "a.to_json(\"testlce.json\")"
   ]
  },
  {
   "cell_type": "markdown",
   "metadata": {},
   "source": [
    "the kmc.event_generator is for generating the event_kernal.csv"
   ]
  },
  {
   "cell_type": "code",
   "execution_count": 2,
   "metadata": {},
   "outputs": [
    {
     "name": "stdout",
     "output_type": "stream",
     "text": [
      "Generating events ...\n",
      "Initializing model with pirm.json at ../examples/inputs/prim.json ...\n",
      "Supercell Shape:\n",
      " [[2 0 0]\n",
      " [0 1 0]\n",
      " [0 0 1]]\n",
      "Converting supercell ...\n",
      "Looking for all possible swaps with ncpus = 40  (this might take a while) ...\n",
      "Saving: ./testevent_kernal.csv\n",
      "Generating event kernal ...\n",
      "Saving into: event_kernal.csv\n"
     ]
    }
   ],
   "source": [
    "from kmcpy.event_generator import generate_events\n",
    "\n",
    "generate_events(r\"../examples/inputs/prim.json\",[2,1,1],\"./testevent_kernal.csv\")"
   ]
  },
  {
   "cell_type": "markdown",
   "metadata": {},
   "source": [
    "Api version 2 initiated\n",
    "aiming for more flexible inputs.\n",
    "Following block is the main KMC function\n",
    "DO make sure that they provide similar result as in API=1"
   ]
  },
  {
   "cell_type": "code",
   "execution_count": null,
   "metadata": {},
   "outputs": [],
   "source": [
    "#!/usr/bin/env python\n",
    "\n",
    "from kmcpy.io import InputSet,load_occ\n",
    "from kmcpy.kmc import KMC\n",
    "import os\n",
    "import sys\n",
    "\n",
    "def main(api=2,**kwargs):\n",
    "    inputset=InputSet.from_json(\"test_input_v2.json\",api=2)\n",
    "\n",
    "    print(inputset._parameters.keys())\n",
    "    inputset.parameter_checker()\n",
    "\n",
    "    inputset.set_parameter(\"occ\",load_occ(fanme=inputset._parameters[\"mc_results\"],shape=inputset._parameters[\"supercell_shape\"],select_sites=inputset._parameters[\"select_sites\"],api=inputset.api,verbose=True))\n",
    "    \n",
    "    \n",
    "    \n",
    "\n",
    "    # step 1 initialize global occupation and conditions\n",
    "    \n",
    "    \n",
    "    \n",
    "    kmc = KMC(api=api)\n",
    "    events_initialized = kmc.initialization(**inputset._parameters) # v in 10^13 hz\n",
    "\n",
    "    # # step 2 compute the site kernal (used for kmc run)\n",
    "    kmc.load_site_event_list(inputset._parameters[\"event_kernel\"])\n",
    "\n",
    "    # # step 3 run kmc\n",
    "    kmc.run_from_database(events=events_initialized,**inputset._parameters)\n",
    "\n",
    "\n",
    "if __name__ == \"__main__\":\n",
    "\n",
    "    main()"
   ]
  },
  {
   "cell_type": "markdown",
   "metadata": {},
   "source": []
  },
  {
   "cell_type": "code",
   "execution_count": null,
   "metadata": {},
   "outputs": [],
   "source": []
  }
 ],
 "metadata": {
  "interpreter": {
   "hash": "631df3298486172220503e3e881d138bc3fe2cd26a666e42cee5db8aa8474095"
  },
  "kernelspec": {
   "display_name": "Python 3.8.8 ('base')",
   "language": "python",
   "name": "python3"
  },
  "language_info": {
   "codemirror_mode": {
    "name": "ipython",
    "version": 3
   },
   "file_extension": ".py",
   "mimetype": "text/x-python",
   "name": "python",
   "nbconvert_exporter": "python",
   "pygments_lexer": "ipython3",
   "version": "3.8.8"
  },
  "orig_nbformat": 4
 },
 "nbformat": 4,
 "nbformat_minor": 2
}
