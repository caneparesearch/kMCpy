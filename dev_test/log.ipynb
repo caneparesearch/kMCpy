{
 "cells": [
  {
   "cell_type": "code",
   "execution_count": 9,
   "metadata": {},
   "outputs": [
    {
     "name": "stderr",
     "output_type": "stream",
     "text": [
      "segmentation fault\n",
      "segmentation fault\n",
      "segmentation fault\n",
      "segmentation fault\n",
      "segmentation fault\n",
      "segmentation fault\n",
      "WARNING:abc:segmentation fault\n",
      "WARNING:root:oh\n"
     ]
    }
   ],
   "source": [
    "import logging\n",
    "\n",
    "\n",
    "test_logger=logging.getLogger(\"abc\")\n",
    "\n",
    "test_logger.setLevel(\"WARNING\")\n",
    "test_logger.addHandler(logging.StreamHandler())\n",
    "test_logger.addHandler(logging.FileHandler(\"debug.log\"))\n",
    "test_logger.warning(\"segmentation fault\")\n",
    "test_logger.info(\"a\")\n",
    "logging.warning(\"oh\")\n"
   ]
  },
  {
   "cell_type": "markdown",
   "metadata": {},
   "source": []
  }
 ],
 "metadata": {
  "interpreter": {
   "hash": "d6457c151a097b116c9d2a3a77345cbb54c0986acd83ccf493b3aeab9d2e3608"
  },
  "kernelspec": {
   "display_name": "Python 3.8.13 ('kmcpy_dev')",
   "language": "python",
   "name": "python3"
  },
  "language_info": {
   "codemirror_mode": {
    "name": "ipython",
    "version": 3
   },
   "file_extension": ".py",
   "mimetype": "text/x-python",
   "name": "python",
   "nbconvert_exporter": "python",
   "pygments_lexer": "ipython3",
   "version": "3.8.13"
  },
  "orig_nbformat": 4
 },
 "nbformat": 4,
 "nbformat_minor": 2
}
